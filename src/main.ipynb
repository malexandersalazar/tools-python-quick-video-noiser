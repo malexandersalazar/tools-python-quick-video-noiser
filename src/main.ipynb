{
 "cells": [
  {
   "cell_type": "code",
   "execution_count": 2,
   "metadata": {},
   "outputs": [],
   "source": [
    "import subprocess\n",
    "import glob\n",
    "import cv2\n",
    "import os\n",
    "import numpy as np\n",
    "import random\n",
    "import shutil"
   ]
  },
  {
   "cell_type": "code",
   "execution_count": 17,
   "metadata": {},
   "outputs": [],
   "source": [
    "INPUT_FILE = \"D:\\\\Workspaces\\\\malexandersalazar\\\\tools-python-quick-video-noise-reducer\\\\src\\\\resources\\\\lyra-iorek.mp4\"\n",
    "NOISE_TYPE = \"saltpepper\""
   ]
  },
  {
   "cell_type": "code",
   "execution_count": 18,
   "metadata": {},
   "outputs": [],
   "source": [
    "def convertFPS(input_file,fps,output_file):\n",
    "    parameters = {}\n",
    "    parameters[\"input_file\"] = input_file\n",
    "    parameters[\"filter\"] = \"fps=\" + str(fps)\n",
    "    parameters[\"output_file\"] = output_file\n",
    "\n",
    "    commands_list = [\n",
    "        \"ffmpeg\",\n",
    "        \"-i\",\n",
    "        parameters[\"input_file\"],\n",
    "        \"-filter:v\",\n",
    "        parameters[\"filter\"],\n",
    "        parameters[\"output_file\"]\n",
    "        ]\n",
    "\n",
    "    return commands_list"
   ]
  },
  {
   "cell_type": "code",
   "execution_count": 19,
   "metadata": {},
   "outputs": [],
   "source": [
    "def extractFrames(input_file, frames_directory):\n",
    "    parameters = {}\n",
    "    parameters[\"rate_1\"] = \"1\"\n",
    "    parameters[\"input_file\"] = input_file\n",
    "    parameters[\"rate_2\"] = \"1\"\n",
    "    parameters[\"output_file\"] = frames_directory + \"\\\\%04d.jpg\"\n",
    "\n",
    "    commands_list = [\n",
    "        \"ffmpeg\",\n",
    "        \"-r\",\n",
    "        parameters[\"rate_1\"],\n",
    "        \"-i\",\n",
    "        parameters[\"input_file\"],\n",
    "        \"-r\",\n",
    "        parameters[\"rate_2\"],\n",
    "        parameters[\"output_file\"]\n",
    "        ]\n",
    "\n",
    "    return commands_list"
   ]
  },
  {
   "cell_type": "code",
   "execution_count": 20,
   "metadata": {},
   "outputs": [],
   "source": [
    "def apply_noise(noise_type,image):\n",
    "    if noise_type == \"saltpepper\":\n",
    "        prob = 0.1\n",
    "        output = np.zeros(image.shape,np.uint8)\n",
    "        thres = 1 - prob \n",
    "        for i in range(image.shape[0]):\n",
    "            for j in range(image.shape[1]):\n",
    "                rdn = random.random()\n",
    "                if rdn < prob:\n",
    "                    output[i][j] = 0\n",
    "                elif rdn > thres:\n",
    "                    output[i][j] = 255\n",
    "                else:\n",
    "                    output[i][j] = image[i][j]\n",
    "        return output\n",
    "    elif noise_type ==\"speckle\":\n",
    "        row,col,ch = image.shape\n",
    "        gauss = np.random.randn(row,col,ch)\n",
    "        gauss = gauss.reshape(row,col,ch)        \n",
    "        noisy = image + image * gauss\n",
    "        return noisy"
   ]
  },
  {
   "cell_type": "code",
   "execution_count": 21,
   "metadata": {},
   "outputs": [],
   "source": [
    "def join_frames_to_video(input_files,output_directory,file_name_without_ext):\n",
    "    parameters = {}\n",
    "    parameters[\"framerate\"] = \"24\"\n",
    "    parameters[\"input_files\"] = input_files\n",
    "    parameters[\"video_codec\"] = \"libx264\"\n",
    "    parameters[\"output_rate\"] = \"24\"\n",
    "    parameters[\"pixel_format\"] = \"yuv420p\"\n",
    "    parameters[\"output_file\"] = output_directory + \"\\\\\" + file_name_without_ext + \"_noise_noaudio.mp4\"\n",
    "\n",
    "    commands_list = [\n",
    "        \"ffmpeg\",\n",
    "        \"-framerate\",\n",
    "        parameters[\"framerate\"],\n",
    "        \"-i\",\n",
    "        parameters[\"input_files\"],\n",
    "        \"-c:v\",\n",
    "        parameters[\"video_codec\"],\n",
    "        \"-r\",\n",
    "        parameters[\"output_rate\"],\n",
    "        \"-pix_fmt\",\n",
    "        parameters[\"pixel_format\"],\n",
    "        parameters[\"output_file\"]\n",
    "        ]\n",
    "\n",
    "    return commands_list"
   ]
  },
  {
   "cell_type": "code",
   "execution_count": 22,
   "metadata": {},
   "outputs": [],
   "source": [
    "owd = os.getcwd()\n",
    "\n",
    "current_img_dir = os.path.dirname(INPUT_FILE)\n",
    "input_filename = os.path.basename(INPUT_FILE)\n",
    "input_filename_without_ext = os.path.splitext(input_filename)[0]\n",
    "new_working_dir = current_img_dir + \"\\\\\" + input_filename_without_ext\n",
    "os.mkdir(new_working_dir)\n",
    "os.chdir(new_working_dir)"
   ]
  },
  {
   "cell_type": "code",
   "execution_count": 23,
   "metadata": {},
   "outputs": [
    {
     "data": {
      "text/plain": [
       "CompletedProcess(args=['ffmpeg', '-r', '1', '-i', '24fps.mp4', '-r', '1', 'D:\\\\Workspaces\\\\malexandersalazar\\\\tools-python-quick-video-noise-reducer\\\\src\\\\resources\\\\lyra-iorek\\\\frames\\\\%04d.jpg'], returncode=0)"
      ]
     },
     "execution_count": 23,
     "metadata": {},
     "output_type": "execute_result"
    }
   ],
   "source": [
    "base_file = \"24fps.mp4\"\n",
    "subprocess.run(convertFPS(INPUT_FILE,24,base_file))\n",
    "\n",
    "frames_directory = new_working_dir + \"\\\\frames\"\n",
    "os.mkdir(frames_directory)\n",
    "subprocess.run(extractFrames(base_file, frames_directory))"
   ]
  },
  {
   "cell_type": "code",
   "execution_count": 24,
   "metadata": {},
   "outputs": [],
   "source": [
    "altered_frames_directory = new_working_dir + \"\\\\altered_frames\"\n",
    "os.mkdir(altered_frames_directory)\n",
    "\n",
    "for img_file in glob.glob(frames_directory + \"\\\\*.jpg\"):\n",
    "    file_name = os.path.basename(img_file)\n",
    "    file_name_without_ext = os.path.splitext(file_name)[0]\n",
    "\n",
    "    img = cv2.imread(img_file, flags=cv2.IMREAD_COLOR)\n",
    "\n",
    "    new_img = apply_noise(NOISE_TYPE,img)\n",
    "    \n",
    "    new_file_name = altered_frames_directory + '\\\\' + file_name_without_ext + '.jpg' \n",
    "    cv2.imwrite(new_file_name, new_img)"
   ]
  },
  {
   "cell_type": "code",
   "execution_count": 25,
   "metadata": {},
   "outputs": [
    {
     "data": {
      "text/plain": [
       "CompletedProcess(args=['ffmpeg', '-framerate', '24', '-i', 'D:\\\\Workspaces\\\\malexandersalazar\\\\tools-python-quick-video-noise-reducer\\\\src\\\\resources\\\\lyra-iorek\\\\altered_frames\\\\%04d.jpg', '-c:v', 'libx264', '-r', '24', '-pix_fmt', 'yuv420p', 'D:\\\\Workspaces\\\\malexandersalazar\\\\tools-python-quick-video-noise-reducer\\\\src\\\\resources\\\\lyra-iorek_noise_noaudio.mp4'], returncode=0)"
      ]
     },
     "execution_count": 25,
     "metadata": {},
     "output_type": "execute_result"
    }
   ],
   "source": [
    "subprocess.run(join_frames_to_video(altered_frames_directory + \"\\\\%04d.jpg\", current_img_dir, input_filename_without_ext))"
   ]
  },
  {
   "cell_type": "code",
   "execution_count": 26,
   "metadata": {},
   "outputs": [],
   "source": [
    "shutil.rmtree(new_working_dir, ignore_errors=True)"
   ]
  },
  {
   "cell_type": "code",
   "execution_count": 27,
   "metadata": {},
   "outputs": [],
   "source": [
    "os.chdir(owd)\n",
    "os.rmdir(new_working_dir)"
   ]
  },
  {
   "cell_type": "code",
   "execution_count": 28,
   "metadata": {},
   "outputs": [
    {
     "data": {
      "text/plain": [
       "CompletedProcess(args='ffmpeg -i lyra-iorek_noise_noaudio.mp4 -i lyra-iorek.mp3 -c:v copy -map 0:v -map 1:a -y lyra-iorek_noise_audio.mp4 ', returncode=0)"
      ]
     },
     "execution_count": 28,
     "metadata": {},
     "output_type": "execute_result"
    }
   ],
   "source": [
    "os.chdir(current_img_dir)\n",
    "subprocess.run(\"ffmpeg -i \" + input_filename_without_ext + \".mp4 -vn \" + input_filename_without_ext + \".mp3\")\n",
    "subprocess.run(\"ffmpeg -i \" + input_filename_without_ext + \"_noise_noaudio.mp4 -i \" + input_filename_without_ext + \".mp3 -c:v copy -map 0:v -map 1:a -y \" + input_filename_without_ext + \"_noisy.mp4 \")\n",
    "\n",
    "os.remove(input_filename_without_ext + \"_noise_noaudio.mp4\")\n",
    "os.remove(input_filename_without_ext + \".mp3\")"
   ]
  }
 ],
 "metadata": {
  "kernelspec": {
   "display_name": "images-to-text",
   "language": "python",
   "name": "python3"
  },
  "language_info": {
   "codemirror_mode": {
    "name": "ipython",
    "version": 3
   },
   "file_extension": ".py",
   "mimetype": "text/x-python",
   "name": "python",
   "nbconvert_exporter": "python",
   "pygments_lexer": "ipython3",
   "version": "3.8.15 (default, Nov 24 2022, 14:38:14) [MSC v.1916 64 bit (AMD64)]"
  },
  "orig_nbformat": 4,
  "vscode": {
   "interpreter": {
    "hash": "d1b8e0c9613274bb118e904c37abc27e33497fc32b900a49decd6a60158bab92"
   }
  }
 },
 "nbformat": 4,
 "nbformat_minor": 2
}
